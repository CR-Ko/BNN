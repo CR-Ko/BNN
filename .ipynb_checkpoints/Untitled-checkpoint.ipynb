{
 "cells": [
  {
   "cell_type": "code",
   "execution_count": 10,
   "metadata": {
    "collapsed": false
   },
   "outputs": [
    {
     "name": "stdout",
     "output_type": "stream",
     "text": [
      "Extracting MNIST_data/train-images-idx3-ubyte.gz\n",
      "Extracting MNIST_data/train-labels-idx1-ubyte.gz\n",
      "Extracting MNIST_data/t10k-images-idx3-ubyte.gz\n",
      "Extracting MNIST_data/t10k-labels-idx1-ubyte.gz\n"
     ]
    }
   ],
   "source": [
    "import numpy as np\n",
    "import tensorflow as tf\n",
    "from tensorflow.examples.tutorials.mnist import input_data\n",
    "import matplotlib.pyplot as plt\n",
    "%matplotlib inline\n",
    "mnist = input_data.read_data_sets('MNIST_data', one_hot=True)\n",
    "from tensorflow.python.framework import ops\n",
    "from enum import Enum\n",
    "import seaborn as sns\n",
    "sns.set(color_codes=True)\n",
    "\n",
    "def reset_graph():\n",
    "    if 'sess' in globals() and sess:\n",
    "        sess.close()\n",
    "    tf.reset_default_graph()\n",
    "\n",
    "class StochasticGradientEstimator(Enum):\n",
    "    ST = 0\n",
    "    REINFORCE = 1"
   ]
  },
  {
   "cell_type": "code",
   "execution_count": 11,
   "metadata": {
    "collapsed": false
   },
   "outputs": [],
   "source": [
    "def build_classifier(hidden_dims=[100],\n",
    "                        lr = 0.5,\n",
    "                        pass_through = True,\n",
    "                        non_binary = False,\n",
    "                        estimator = StochasticGradientEstimator.ST,\n",
    "                        no_var_adj=False):\n",
    "    reset_graph() \n",
    "    g = {}\n",
    "    \n",
    "    g['x'] = tf.placeholder(tf.float32, [None, 784], name='x_placeholder')\n",
    "    g['y'] = tf.placeholder(tf.float32, [None, 10], name='y_placeholder')\n",
    "    g['stochastic'] = tf.constant(True)\n",
    "    g['slope'] = tf.constant(1.0)\n",
    "\n",
    "    g['layers'] = {0: g['x']}\n",
    "    hidden_layers = len(hidden_dims)\n",
    "    dims = [784] + hidden_dims\n",
    "    \n",
    "    return g"
   ]
  },
  {
   "cell_type": "code",
   "execution_count": 13,
   "metadata": {
    "collapsed": false
   },
   "outputs": [
    {
     "name": "stdout",
     "output_type": "stream",
     "text": [
      "('g=', {'y': <tf.Tensor 'y_placeholder:0' shape=(?, 10) dtype=float32>, 'x': <tf.Tensor 'x_placeholder:0' shape=(?, 784) dtype=float32>, 'layers': {0: <tf.Tensor 'x_placeholder:0' shape=(?, 784) dtype=float32>}, 'slope': <tf.Tensor 'Const_1:0' shape=() dtype=float32>, 'stochastic': <tf.Tensor 'Const:0' shape=() dtype=bool>})\n"
     ]
    }
   ],
   "source": [
    "hidden_dims=[100,100]\n",
    "lr = 0.5\n",
    "non_binary = False\n",
    "estimator = StochasticGradientEstimator.ST\n",
    "no_var_adj = False\n",
    "g = build_classifier(hidden_dims=hidden_dims, lr=lr, pass_through=True,\n",
    "                                non_binary=non_binary, estimator=estimator, no_var_adj=no_var_adj)\n",
    "\n",
    "print(\"g=\",)\n",
    "print(g)"
   ]
  },
  {
   "cell_type": "code",
   "execution_count": null,
   "metadata": {
    "collapsed": true
   },
   "outputs": [],
   "source": []
  }
 ],
 "metadata": {
  "kernelspec": {
   "display_name": "Python (koenv)",
   "language": "python",
   "name": "koenv"
  },
  "language_info": {
   "codemirror_mode": {
    "name": "ipython",
    "version": 2
   },
   "file_extension": ".py",
   "mimetype": "text/x-python",
   "name": "python",
   "nbconvert_exporter": "python",
   "pygments_lexer": "ipython2",
   "version": "2.7.13"
  }
 },
 "nbformat": 4,
 "nbformat_minor": 2
}
